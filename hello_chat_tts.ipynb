{
  "cells": [
    {
      "cell_type": "code",
      "execution_count": null,
      "metadata": {
        "colab": {
          "base_uri": "https://localhost:8080/"
        },
        "id": "-fBzxrCFFS1s",
        "outputId": "3e3d4d6d-cf50-4f63-b50a-ba4641dea966"
      },
      "outputs": [],
      "source": [
        "# !git clone https://github.com/2noise/ChatTTS.git\n",
        "!pip -q install omegaconf~=2.3.0 torch~=2.2.2 tqdm einops vector_quantize_pytorch transformers~=4.41.1 vocos IPython\n",
        "\n",
        "!pip install -i https://pypi.anaconda.org/scientific-python-nightly-wheels/simple numpy -U"
      ]
    },
    {
      "cell_type": "code",
      "execution_count": null,
      "metadata": {
        "id": "KOguFzIKEReY"
      },
      "outputs": [],
      "source": [
        "import torch\n",
        "torch._dynamo.config.cache_size_limit = 64\n",
        "torch._dynamo.config.suppress_errors = True\n",
        "torch.set_float32_matmul_precision('high')\n",
        "\n",
        "from ChatTTS import ChatTTS\n",
        "from IPython.display import Audio"
      ]
    },
    {
      "cell_type": "code",
      "execution_count": null,
      "metadata": {
        "colab": {
          "base_uri": "https://localhost:8080/",
          "height": 49,
          "referenced_widgets": [
            "93184c6ebdb34f518742eb4b300d2bb5",
            "22c4a3c31d954ed88794a3658d20731a",
            "9ee739f19ed74939896dff95def31ec8",
            "c0b7bbbd3d0f49b1a32545fe5c771b74",
            "e718c8bf0a8047ee977e99814bfc2a64",
            "bef607ba68514ae1add021dbcb933b72",
            "74455e9e3efd4c1081c21c80e330032e",
            "bc011b3367f44744992445935bd4c4f2",
            "f516bb207a5b492aaabbbd8c08b292e6",
            "9f3c38a720d94312a5eac1848ef9cb91",
            "7edb4d8c43b94ec0aa1e65c8262b308d"
          ]
        },
        "id": "PrmKfVX6F_dS",
        "outputId": "0648b690-eec3-488c-b5b2-50d9534593a0"
      },
      "outputs": [],
      "source": [
        "chat = ChatTTS.Chat()\n",
        "chat.load_models(\n",
        "    source='local', local_path='/Users/hanl5/Downloads/chat_tts/HF_ChatTTS')"
      ]
    },
    {
      "cell_type": "markdown",
      "metadata": {
        "id": "in0kwGV8FeeX"
      },
      "source": [
        "## Batch Inference"
      ]
    },
    {
      "cell_type": "code",
      "execution_count": null,
      "metadata": {},
      "outputs": [],
      "source": [
        "!python -m pip install --upgrade pip\n",
        "!pip install Cython\n",
        "!python -m pip install git+https://github.com/NVIDIA/NeMo.git@main#egg=nemo_toolkit[all]"
      ]
    },
    {
      "cell_type": "code",
      "execution_count": null,
      "metadata": {
        "colab": {
          "base_uri": "https://localhost:8080/"
        },
        "id": "gP4Qlp4uEepm",
        "outputId": "05d963a5-6c6b-4215-965b-caadae083d7c"
      },
      "outputs": [],
      "source": [
        "texts = [\"Chat T.T.S. is a cool new T.T.S. system from 2 Noise?\",\n",
        "         \"I wonder if there will be a faster version of Chat T.T.S.\"]\n",
        "\n",
        "wavs = chat.infer(texts)"
      ]
    },
    {
      "cell_type": "code",
      "execution_count": null,
      "metadata": {
        "colab": {
          "base_uri": "https://localhost:8080/"
        },
        "id": "xe_-m36hJY4X",
        "outputId": "280dc109-fb0e-43ea-874b-dc03f51c82ad"
      },
      "outputs": [],
      "source": [
        "texts"
      ]
    },
    {
      "cell_type": "code",
      "execution_count": null,
      "metadata": {
        "colab": {
          "base_uri": "https://localhost:8080/",
          "height": 76
        },
        "id": "BZOhvc3FFv9I",
        "outputId": "d5425de6-537c-4a40-f039-3a651df97dd0"
      },
      "outputs": [],
      "source": [
        "Audio(wavs[0], rate=24_000, autoplay=True)"
      ]
    },
    {
      "cell_type": "code",
      "execution_count": null,
      "metadata": {
        "colab": {
          "base_uri": "https://localhost:8080/",
          "height": 76
        },
        "id": "1mTJ8mRrGiJ2",
        "outputId": "539aeb23-828d-4322-df99-c37347a12b3e"
      },
      "outputs": [],
      "source": [
        "Audio(wavs[1], rate=24_000, autoplay=True)"
      ]
    },
    {
      "cell_type": "code",
      "execution_count": null,
      "metadata": {
        "colab": {
          "base_uri": "https://localhost:8080/"
        },
        "id": "40TrMxF3GuLN",
        "outputId": "05ed13e0-3de4-494d-f54a-2bad9944c0a5"
      },
      "outputs": [],
      "source": [
        "params_infer_code = {'prompt':'[speed_5]', 'temperature':.3}\n",
        "params_refine_text = {'prompt':'[oral_2][laugh_0][break_6]'}\n",
        "\n",
        "wav = chat.infer('Hey there, how are you doing today? I was wondering what are you doing at 3 PM today',\n",
        "    params_refine_text=params_refine_text, params_infer_code=params_infer_code)"
      ]
    },
    {
      "cell_type": "code",
      "execution_count": null,
      "metadata": {
        "colab": {
          "base_uri": "https://localhost:8080/",
          "height": 76
        },
        "id": "rxOVczncI5TA",
        "outputId": "c86eb2ce-d549-4f14-b5fe-d83c3f18eb1f"
      },
      "outputs": [],
      "source": [
        "Audio(wav[0], rate=24_000, autoplay=True)"
      ]
    },
    {
      "cell_type": "markdown",
      "metadata": {
        "id": "mRNLOKh_G-VP"
      },
      "source": [
        "## Setting a speaker"
      ]
    },
    {
      "cell_type": "code",
      "execution_count": null,
      "metadata": {
        "colab": {
          "base_uri": "https://localhost:8080/"
        },
        "id": "6v4cI0bfG9MT",
        "outputId": "170d38f2-74c7-49b5-ce2c-370164c39621"
      },
      "outputs": [],
      "source": [
        "rand_spk = chat.sample_random_speaker()\n",
        "\n",
        "params_infer_code = {'spk_emb' : rand_spk,'prompt':'[speed_3]', 'temperature':.3 }\n",
        "\n",
        "wav = chat.infer('Hey there, how are you doing today? I was wondering what are you doing at 3 PM today ', \\\n",
        "    params_refine_text=params_refine_text, params_infer_code=params_infer_code)"
      ]
    },
    {
      "cell_type": "code",
      "execution_count": null,
      "metadata": {
        "colab": {
          "base_uri": "https://localhost:8080/",
          "height": 76
        },
        "id": "531jm4cuJR_L",
        "outputId": "b7cc76cd-7efb-4bed-d6bf-e397c6bfeace"
      },
      "outputs": [],
      "source": [
        "Audio(wav[0], rate=24_000, autoplay=True)"
      ]
    },
    {
      "cell_type": "code",
      "execution_count": null,
      "metadata": {
        "colab": {
          "base_uri": "https://localhost:8080/"
        },
        "id": "WajhnRnVJdxm",
        "outputId": "ae1860ca-6080-420e-9cd2-da8771966e62"
      },
      "outputs": [],
      "source": [
        "rand_spk.shape"
      ]
    },
    {
      "cell_type": "code",
      "execution_count": null,
      "metadata": {
        "colab": {
          "base_uri": "https://localhost:8080/"
        },
        "id": "JC0tebMWJnhs",
        "outputId": "601c1efe-1645-4bba-c9e0-046d302f3bb8"
      },
      "outputs": [],
      "source": [
        "rand_spk"
      ]
    },
    {
      "cell_type": "code",
      "execution_count": null,
      "metadata": {
        "colab": {
          "base_uri": "https://localhost:8080/"
        },
        "id": "pPaq6YUmTf6u",
        "outputId": "20943890-c420-4ebc-8b97-1ed44ed573a7"
      },
      "outputs": [],
      "source": [
        "wav = chat.infer('It would be great for us to catch up and have a coffee [uv_break]', \\\n",
        "    params_refine_text=params_refine_text, params_infer_code=params_infer_code)"
      ]
    },
    {
      "cell_type": "code",
      "execution_count": null,
      "metadata": {
        "colab": {
          "base_uri": "https://localhost:8080/",
          "height": 76
        },
        "id": "z2MxNVvhTm8J",
        "outputId": "037f0131-86e5-4a84-9c86-380530bdd894"
      },
      "outputs": [],
      "source": [
        "Audio(wav[0], rate=24_000, autoplay=True)"
      ]
    },
    {
      "cell_type": "markdown",
      "metadata": {
        "id": "nFPCn4IvJy8Y"
      },
      "source": [
        "## Refined Text"
      ]
    },
    {
      "cell_type": "code",
      "execution_count": null,
      "metadata": {
        "colab": {
          "base_uri": "https://localhost:8080/"
        },
        "id": "3hAAc0lJbSrl",
        "outputId": "3d08f1c7-aa3d-41ea-c6fb-9c3fe6a7a8c4"
      },
      "outputs": [],
      "source": [
        "text = \"Hi Everyone, thanks for watching the Youtube Channel.\"\n",
        "refined_text = chat.infer(text, refine_text_only=True)\n",
        "refined_text"
      ]
    },
    {
      "cell_type": "code",
      "execution_count": null,
      "metadata": {
        "colab": {
          "base_uri": "https://localhost:8080/"
        },
        "id": "0GVJxhd3BKQX",
        "outputId": "89110884-c0cd-41fd-ccf8-3fb28e03a815"
      },
      "outputs": [],
      "source": [
        "wav = chat.infer(refined_text)"
      ]
    },
    {
      "cell_type": "code",
      "execution_count": null,
      "metadata": {
        "colab": {
          "base_uri": "https://localhost:8080/",
          "height": 76
        },
        "id": "ngyMht74BicY",
        "outputId": "0425c742-23d0-4d8e-ac50-514917aafa7b"
      },
      "outputs": [],
      "source": [
        "Audio(wav[0], rate=24_000, autoplay=True)"
      ]
    },
    {
      "cell_type": "markdown",
      "metadata": {
        "id": "C-KMBhnHRF23"
      },
      "source": [
        "## Prosody and Paralinguistic Features\n",
        "\n",
        "[laugh]  \n",
        "[uv_break]  \n",
        "[speed]  \n",
        "[oral]  \n",
        "\n",
        "Numbered amounts  \n",
        "[laugh_2]  \n",
        "[speed_3]"
      ]
    },
    {
      "cell_type": "code",
      "execution_count": null,
      "metadata": {
        "colab": {
          "base_uri": "https://localhost:8080/"
        },
        "id": "aidgSCprRx4J",
        "outputId": "78e7f6df-c0ff-4cdc-cf92-e7dfbfad2bd5"
      },
      "outputs": [],
      "source": [
        "text = \"So we found being competitive and collaborative was a huge way of staying motivated towards our goals, so one person to call when you fall off, one person who gets you back on then one person to actually do the activity with.\"\n",
        "chat.infer(text, refine_text_only=True)"
      ]
    },
    {
      "cell_type": "code",
      "execution_count": null,
      "metadata": {
        "colab": {
          "base_uri": "https://localhost:8080/"
        },
        "id": "rBPE3gi3V0Xx",
        "outputId": "96134989-3e9a-41fb-b448-426e74497c23"
      },
      "outputs": [],
      "source": [
        "text = ['so we found being [uv_break] competitive [uv_break] and collaborative was a huge way of staying [uv_break] motivated towards our goals, [uv_break] so one person to call [uv_break] when you fall off, one person who gets you back [uv_break] on then one person to actually do the activity with.']\n",
        "wav = chat.infer(text)"
      ]
    },
    {
      "cell_type": "code",
      "execution_count": null,
      "metadata": {
        "colab": {
          "base_uri": "https://localhost:8080/",
          "height": 76
        },
        "id": "uYVT8BakV_Fy",
        "outputId": "6917bfc0-b098-4622-d75d-f7beec522b09"
      },
      "outputs": [],
      "source": [
        "Audio(wav[0], rate=24_000, autoplay=True)"
      ]
    },
    {
      "cell_type": "code",
      "execution_count": null,
      "metadata": {
        "colab": {
          "base_uri": "https://localhost:8080/"
        },
        "id": "R2WjuVrWbSrl",
        "outputId": "005e6196-fdaf-433a-abdf-acbb61c35e6a"
      },
      "outputs": [],
      "source": [
        "text = 'so we found being competitive and collaborative was a huge way of staying [uv_break] motivated towards our goals [laugh], [uv_break] so [uv_break] one person to call [uv_break] when you fall off, [uv_break] one person who [uv_break] gets you back [uv_break] on then [uv_break] one person [uv_break] to actually do the activity with.'\n",
        "wav = chat.infer(text, skip_refine_text=False)"
      ]
    },
    {
      "cell_type": "code",
      "execution_count": null,
      "metadata": {
        "colab": {
          "base_uri": "https://localhost:8080/",
          "height": 76
        },
        "id": "2LUOf6xjVh0y",
        "outputId": "c046d845-0df9-40c7-9168-62398050fdc5"
      },
      "outputs": [],
      "source": [
        "Audio(wav[0], rate=24_000, autoplay=True)"
      ]
    },
    {
      "cell_type": "code",
      "execution_count": null,
      "metadata": {
        "id": "De_K2E8WWIsR"
      },
      "outputs": [],
      "source": []
    },
    {
      "cell_type": "code",
      "execution_count": null,
      "metadata": {
        "colab": {
          "base_uri": "https://localhost:8080/"
        },
        "id": "ZRq0idOoRBs9",
        "outputId": "cf368d6f-b3cb-4afe-98d5-fa478c24a396"
      },
      "outputs": [],
      "source": [
        "chat.pretrain_models['tokenizer']"
      ]
    },
    {
      "cell_type": "code",
      "execution_count": null,
      "metadata": {
        "id": "YaGXxMM0XGhJ"
      },
      "outputs": [],
      "source": []
    }
  ],
  "metadata": {
    "accelerator": "GPU",
    "colab": {
      "gpuType": "T4",
      "provenance": []
    },
    "kernelspec": {
      "display_name": "Python 3",
      "name": "python3"
    },
    "language_info": {
      "codemirror_mode": {
        "name": "ipython",
        "version": 3
      },
      "file_extension": ".py",
      "mimetype": "text/x-python",
      "name": "python",
      "nbconvert_exporter": "python",
      "pygments_lexer": "ipython3",
      "version": "3.12.3"
    },
    "widgets": {
      "application/vnd.jupyter.widget-state+json": {
        "22c4a3c31d954ed88794a3658d20731a": {
          "model_module": "@jupyter-widgets/controls",
          "model_module_version": "1.5.0",
          "model_name": "HTMLModel",
          "state": {
            "_dom_classes": [],
            "_model_module": "@jupyter-widgets/controls",
            "_model_module_version": "1.5.0",
            "_model_name": "HTMLModel",
            "_view_count": null,
            "_view_module": "@jupyter-widgets/controls",
            "_view_module_version": "1.5.0",
            "_view_name": "HTMLView",
            "description": "",
            "description_tooltip": null,
            "layout": "IPY_MODEL_bef607ba68514ae1add021dbcb933b72",
            "placeholder": "​",
            "style": "IPY_MODEL_74455e9e3efd4c1081c21c80e330032e",
            "value": "Fetching 11 files: 100%"
          }
        },
        "74455e9e3efd4c1081c21c80e330032e": {
          "model_module": "@jupyter-widgets/controls",
          "model_module_version": "1.5.0",
          "model_name": "DescriptionStyleModel",
          "state": {
            "_model_module": "@jupyter-widgets/controls",
            "_model_module_version": "1.5.0",
            "_model_name": "DescriptionStyleModel",
            "_view_count": null,
            "_view_module": "@jupyter-widgets/base",
            "_view_module_version": "1.2.0",
            "_view_name": "StyleView",
            "description_width": ""
          }
        },
        "7edb4d8c43b94ec0aa1e65c8262b308d": {
          "model_module": "@jupyter-widgets/controls",
          "model_module_version": "1.5.0",
          "model_name": "DescriptionStyleModel",
          "state": {
            "_model_module": "@jupyter-widgets/controls",
            "_model_module_version": "1.5.0",
            "_model_name": "DescriptionStyleModel",
            "_view_count": null,
            "_view_module": "@jupyter-widgets/base",
            "_view_module_version": "1.2.0",
            "_view_name": "StyleView",
            "description_width": ""
          }
        },
        "93184c6ebdb34f518742eb4b300d2bb5": {
          "model_module": "@jupyter-widgets/controls",
          "model_module_version": "1.5.0",
          "model_name": "HBoxModel",
          "state": {
            "_dom_classes": [],
            "_model_module": "@jupyter-widgets/controls",
            "_model_module_version": "1.5.0",
            "_model_name": "HBoxModel",
            "_view_count": null,
            "_view_module": "@jupyter-widgets/controls",
            "_view_module_version": "1.5.0",
            "_view_name": "HBoxView",
            "box_style": "",
            "children": [
              "IPY_MODEL_22c4a3c31d954ed88794a3658d20731a",
              "IPY_MODEL_9ee739f19ed74939896dff95def31ec8",
              "IPY_MODEL_c0b7bbbd3d0f49b1a32545fe5c771b74"
            ],
            "layout": "IPY_MODEL_e718c8bf0a8047ee977e99814bfc2a64"
          }
        },
        "9ee739f19ed74939896dff95def31ec8": {
          "model_module": "@jupyter-widgets/controls",
          "model_module_version": "1.5.0",
          "model_name": "FloatProgressModel",
          "state": {
            "_dom_classes": [],
            "_model_module": "@jupyter-widgets/controls",
            "_model_module_version": "1.5.0",
            "_model_name": "FloatProgressModel",
            "_view_count": null,
            "_view_module": "@jupyter-widgets/controls",
            "_view_module_version": "1.5.0",
            "_view_name": "ProgressView",
            "bar_style": "success",
            "description": "",
            "description_tooltip": null,
            "layout": "IPY_MODEL_bc011b3367f44744992445935bd4c4f2",
            "max": 11,
            "min": 0,
            "orientation": "horizontal",
            "style": "IPY_MODEL_f516bb207a5b492aaabbbd8c08b292e6",
            "value": 11
          }
        },
        "9f3c38a720d94312a5eac1848ef9cb91": {
          "model_module": "@jupyter-widgets/base",
          "model_module_version": "1.2.0",
          "model_name": "LayoutModel",
          "state": {
            "_model_module": "@jupyter-widgets/base",
            "_model_module_version": "1.2.0",
            "_model_name": "LayoutModel",
            "_view_count": null,
            "_view_module": "@jupyter-widgets/base",
            "_view_module_version": "1.2.0",
            "_view_name": "LayoutView",
            "align_content": null,
            "align_items": null,
            "align_self": null,
            "border": null,
            "bottom": null,
            "display": null,
            "flex": null,
            "flex_flow": null,
            "grid_area": null,
            "grid_auto_columns": null,
            "grid_auto_flow": null,
            "grid_auto_rows": null,
            "grid_column": null,
            "grid_gap": null,
            "grid_row": null,
            "grid_template_areas": null,
            "grid_template_columns": null,
            "grid_template_rows": null,
            "height": null,
            "justify_content": null,
            "justify_items": null,
            "left": null,
            "margin": null,
            "max_height": null,
            "max_width": null,
            "min_height": null,
            "min_width": null,
            "object_fit": null,
            "object_position": null,
            "order": null,
            "overflow": null,
            "overflow_x": null,
            "overflow_y": null,
            "padding": null,
            "right": null,
            "top": null,
            "visibility": null,
            "width": null
          }
        },
        "bc011b3367f44744992445935bd4c4f2": {
          "model_module": "@jupyter-widgets/base",
          "model_module_version": "1.2.0",
          "model_name": "LayoutModel",
          "state": {
            "_model_module": "@jupyter-widgets/base",
            "_model_module_version": "1.2.0",
            "_model_name": "LayoutModel",
            "_view_count": null,
            "_view_module": "@jupyter-widgets/base",
            "_view_module_version": "1.2.0",
            "_view_name": "LayoutView",
            "align_content": null,
            "align_items": null,
            "align_self": null,
            "border": null,
            "bottom": null,
            "display": null,
            "flex": null,
            "flex_flow": null,
            "grid_area": null,
            "grid_auto_columns": null,
            "grid_auto_flow": null,
            "grid_auto_rows": null,
            "grid_column": null,
            "grid_gap": null,
            "grid_row": null,
            "grid_template_areas": null,
            "grid_template_columns": null,
            "grid_template_rows": null,
            "height": null,
            "justify_content": null,
            "justify_items": null,
            "left": null,
            "margin": null,
            "max_height": null,
            "max_width": null,
            "min_height": null,
            "min_width": null,
            "object_fit": null,
            "object_position": null,
            "order": null,
            "overflow": null,
            "overflow_x": null,
            "overflow_y": null,
            "padding": null,
            "right": null,
            "top": null,
            "visibility": null,
            "width": null
          }
        },
        "bef607ba68514ae1add021dbcb933b72": {
          "model_module": "@jupyter-widgets/base",
          "model_module_version": "1.2.0",
          "model_name": "LayoutModel",
          "state": {
            "_model_module": "@jupyter-widgets/base",
            "_model_module_version": "1.2.0",
            "_model_name": "LayoutModel",
            "_view_count": null,
            "_view_module": "@jupyter-widgets/base",
            "_view_module_version": "1.2.0",
            "_view_name": "LayoutView",
            "align_content": null,
            "align_items": null,
            "align_self": null,
            "border": null,
            "bottom": null,
            "display": null,
            "flex": null,
            "flex_flow": null,
            "grid_area": null,
            "grid_auto_columns": null,
            "grid_auto_flow": null,
            "grid_auto_rows": null,
            "grid_column": null,
            "grid_gap": null,
            "grid_row": null,
            "grid_template_areas": null,
            "grid_template_columns": null,
            "grid_template_rows": null,
            "height": null,
            "justify_content": null,
            "justify_items": null,
            "left": null,
            "margin": null,
            "max_height": null,
            "max_width": null,
            "min_height": null,
            "min_width": null,
            "object_fit": null,
            "object_position": null,
            "order": null,
            "overflow": null,
            "overflow_x": null,
            "overflow_y": null,
            "padding": null,
            "right": null,
            "top": null,
            "visibility": null,
            "width": null
          }
        },
        "c0b7bbbd3d0f49b1a32545fe5c771b74": {
          "model_module": "@jupyter-widgets/controls",
          "model_module_version": "1.5.0",
          "model_name": "HTMLModel",
          "state": {
            "_dom_classes": [],
            "_model_module": "@jupyter-widgets/controls",
            "_model_module_version": "1.5.0",
            "_model_name": "HTMLModel",
            "_view_count": null,
            "_view_module": "@jupyter-widgets/controls",
            "_view_module_version": "1.5.0",
            "_view_name": "HTMLView",
            "description": "",
            "description_tooltip": null,
            "layout": "IPY_MODEL_9f3c38a720d94312a5eac1848ef9cb91",
            "placeholder": "​",
            "style": "IPY_MODEL_7edb4d8c43b94ec0aa1e65c8262b308d",
            "value": " 11/11 [00:00&lt;00:00, 360.52it/s]"
          }
        },
        "e718c8bf0a8047ee977e99814bfc2a64": {
          "model_module": "@jupyter-widgets/base",
          "model_module_version": "1.2.0",
          "model_name": "LayoutModel",
          "state": {
            "_model_module": "@jupyter-widgets/base",
            "_model_module_version": "1.2.0",
            "_model_name": "LayoutModel",
            "_view_count": null,
            "_view_module": "@jupyter-widgets/base",
            "_view_module_version": "1.2.0",
            "_view_name": "LayoutView",
            "align_content": null,
            "align_items": null,
            "align_self": null,
            "border": null,
            "bottom": null,
            "display": null,
            "flex": null,
            "flex_flow": null,
            "grid_area": null,
            "grid_auto_columns": null,
            "grid_auto_flow": null,
            "grid_auto_rows": null,
            "grid_column": null,
            "grid_gap": null,
            "grid_row": null,
            "grid_template_areas": null,
            "grid_template_columns": null,
            "grid_template_rows": null,
            "height": null,
            "justify_content": null,
            "justify_items": null,
            "left": null,
            "margin": null,
            "max_height": null,
            "max_width": null,
            "min_height": null,
            "min_width": null,
            "object_fit": null,
            "object_position": null,
            "order": null,
            "overflow": null,
            "overflow_x": null,
            "overflow_y": null,
            "padding": null,
            "right": null,
            "top": null,
            "visibility": null,
            "width": null
          }
        },
        "f516bb207a5b492aaabbbd8c08b292e6": {
          "model_module": "@jupyter-widgets/controls",
          "model_module_version": "1.5.0",
          "model_name": "ProgressStyleModel",
          "state": {
            "_model_module": "@jupyter-widgets/controls",
            "_model_module_version": "1.5.0",
            "_model_name": "ProgressStyleModel",
            "_view_count": null,
            "_view_module": "@jupyter-widgets/base",
            "_view_module_version": "1.2.0",
            "_view_name": "StyleView",
            "bar_color": null,
            "description_width": ""
          }
        }
      }
    }
  },
  "nbformat": 4,
  "nbformat_minor": 0
}
